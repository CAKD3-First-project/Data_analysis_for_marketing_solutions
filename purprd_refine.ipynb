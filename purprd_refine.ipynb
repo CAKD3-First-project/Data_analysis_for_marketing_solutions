{
 "cells": [
  {
   "cell_type": "code",
   "execution_count": 1,
   "id": "c1171cbe",
   "metadata": {},
   "outputs": [],
   "source": [
    "import pandas as pd\n",
    "        "
   ]
  },
  {
   "cell_type": "code",
   "execution_count": 5,
   "id": "bf0bb1db",
   "metadata": {},
   "outputs": [],
   "source": [
    "class Purprd_Process:\n",
    "    def __init__(self, purprd_url, prod_cat_url):\n",
    "        self.purprd = pd.read_csv(purprd_url, encoding='CP949')\n",
    "        self.prod_cat = pd.read_csv(prod_cat_url, encoding='CP949')\n",
    "        \n",
    "    def period_cat(self, x):\n",
    "        if x <= 6: return 1\n",
    "        else : return 2\n",
    "        \n",
    "    def week_cat(self, x):\n",
    "        if x in [5,6]: return '주말'\n",
    "        else : return '주중'\n",
    "        \n",
    "    def time_cat(self, x):\n",
    "        if x in [1,2,3,4,5,6]: return '새벽'\n",
    "        elif x in [7,8,9,10,11,12]: return '오전'\n",
    "        elif x in [13,14,15,16,17,18]: return '오후'\n",
    "        else: return '밤'\n",
    "        \n",
    "    def yoil_cat(self, x):\n",
    "        if x == 0: return '월'\n",
    "        elif x == 1: return '화'\n",
    "        elif x == 2: return '수'\n",
    "        elif x == 3: return '목'\n",
    "        elif x == 4: return '금'\n",
    "        elif x == 5: return '토'\n",
    "        else: return '일'\n",
    "        \n",
    "        \n",
    "    def merge_df(self):\n",
    "        self.df = pd.merge(self.purprd, self.prod_cat[['소분류코드','분류 체계','중분류명','소분류명']], on = '소분류코드')\n",
    "        del self.purprd\n",
    "        del self.prod_cat\n",
    "        self.df = self.df.rename(columns = {'제휴사':'channel', '영수증번호':'receipt_no', \n",
    "                         '대분류코드':'code_dae', '중분류코드':'code_jung', '소분류코드':'code_so',\n",
    "                         '고객번호':'cust_no', '점포코드':'branch_no', \n",
    "                         '구매일자':'pur_date', '구매시간':'pur_hour', '구매금액':'pur_amount',\n",
    "                         '분류 체계':'cat_dae', '중분류명':'cat_jung', '소분류명':'cat_so'})\n",
    "        \n",
    "    \n",
    "    def categorical(self):\n",
    "        self.df['y_month'] = self.df['pur_date'].astype(str).apply(lambda x : x[:-3].replace('-', '_'))\n",
    "        print ('1')\n",
    "        self.df['pur_date'] = pd.to_datetime(self.df['pur_date'].astype(str))\n",
    "        self.df['year'] = self.df['pur_date'].dt.year\n",
    "        self.df['month'] = self.df['pur_date'].dt.month\n",
    "        \n",
    "        self.df['yoil'] = self.df['pur_date'].dt.dayofweek\n",
    "        self.df['yoil'] = self.df['yoil'].apply(self.yoil_cat)\n",
    "        print (2)\n",
    "        self.df['half'] = self.df['month'].apply(self.period_cat)\n",
    "        self.df['week'] = self.df['yoil'].apply(self.week_cat)\n",
    "        self.df['pur_time'] = self.df['pur_hour'].apply(self.time_cat)\n",
    "        print (3)\n",
    "        self.df['period'] = self.df['year'].astype(str)+'_'+ self.df['half'].astype(str)\n",
    "        self.df['pur_week_time'] = self.df['week'] +'_'+self.df['pur_time']\n",
    "        self.df['quarter'] = self.df['pur_date'].dt.quarter\n",
    "        self.df['y_quarter'] = self.df['year'].astype(str)+'_'+ self.df['quarter'].astype(str)        \n",
    "        \n",
    "    def total_processing(self, save_url=None):\n",
    "        self.merge_df()\n",
    "        self.categorical()\n",
    "        if url:\n",
    "            self.df.to_csv(save_url, index=False)\n",
    "            print ('save Complete!')\n",
    "        \n",
    "        return self.df"
   ]
  },
  {
   "cell_type": "code",
   "execution_count": null,
   "id": "2c60aedf",
   "metadata": {},
   "outputs": [],
   "source": [
    "func = Purprd_Process('원본dataframe/구매상품TR.txt','원본dataframe/분류체계_0927.csv')\n",
    "\n",
    "df = func.total_processing('data.csv')\n",
    "# df.head()"
   ]
  },
  {
   "cell_type": "code",
   "execution_count": 10,
   "id": "a66e5fde",
   "metadata": {},
   "outputs": [],
   "source": []
  }
 ],
 "metadata": {
  "kernelspec": {
   "display_name": "Python 3",
   "language": "python",
   "name": "python3"
  },
  "language_info": {
   "codemirror_mode": {
    "name": "ipython",
    "version": 3
   },
   "file_extension": ".py",
   "mimetype": "text/x-python",
   "name": "python",
   "nbconvert_exporter": "python",
   "pygments_lexer": "ipython3",
   "version": "3.8.10"
  }
 },
 "nbformat": 4,
 "nbformat_minor": 5
}
